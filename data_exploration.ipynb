{
 "cells": [
  {
   "cell_type": "code",
   "execution_count": 1,
   "id": "120cd7f4-b4b3-4c4e-8ca4-e0801385b586",
   "metadata": {},
   "outputs": [],
   "source": [
    "from sklearn.tree import DecisionTreeClassifier\n",
    "from sklearn.tree import plot_tree\n",
    "from sklearn.metrics import accuracy_score\n",
    "from sklearn.metrics import precision_score\n",
    "from sklearn.metrics import recall_score\n",
    "from sklearn.metrics import f1_score\n",
    "import seaborn as sns\n",
    "import pandas as pd\n",
    "import numpy as np\n",
    "### Load the Data set\n",
    "df = pd.read_csv(\"diabetes.csv\")\n",
    "\n",
    "from sklearn.model_selection import train_test_split\n",
    "X = df[['BloodPressure', 'SkinThickness', 'Age']]\n",
    "y = df['Outcome']\n",
    "X_train, X_test, y_train, y_test = train_test_split(X, y, test_size=0.2, random_state=42)\n"
   ]
  },
  {
   "cell_type": "code",
   "execution_count": 2,
   "id": "b3d6dd5d-04c7-4b4e-b574-8b47e0bd77d4",
   "metadata": {},
   "outputs": [
    {
     "data": {
      "text/plain": [
       "6912"
      ]
     },
     "execution_count": 2,
     "metadata": {},
     "output_type": "execute_result"
    }
   ],
   "source": [
    "df.size"
   ]
  },
  {
   "cell_type": "code",
   "execution_count": 3,
   "id": "559ea070-1d55-4d3a-bb51-e9fcd12e392e",
   "metadata": {},
   "outputs": [],
   "source": [
    "df = df.loc[df['BMI'] > 0]\n",
    "df = df.loc[df['BloodPressure'] > 0]\n",
    "df = df.loc[df['Glucose'] > 0]"
   ]
  },
  {
   "cell_type": "code",
   "execution_count": 4,
   "id": "bbf89920-a142-4e20-af56-3d9b26d0dc30",
   "metadata": {},
   "outputs": [
    {
     "data": {
      "text/plain": [
       "6516"
      ]
     },
     "execution_count": 4,
     "metadata": {},
     "output_type": "execute_result"
    }
   ],
   "source": [
    "df.size"
   ]
  },
  {
   "cell_type": "code",
   "execution_count": null,
   "id": "dcd944aa-9b59-454d-ae0c-12710d3c8d51",
   "metadata": {},
   "outputs": [],
   "source": []
  }
 ],
 "metadata": {
  "kernelspec": {
   "display_name": "Python 3 (ipykernel)",
   "language": "python",
   "name": "python3"
  },
  "language_info": {
   "codemirror_mode": {
    "name": "ipython",
    "version": 3
   },
   "file_extension": ".py",
   "mimetype": "text/x-python",
   "name": "python",
   "nbconvert_exporter": "python",
   "pygments_lexer": "ipython3",
   "version": "3.11.5"
  }
 },
 "nbformat": 4,
 "nbformat_minor": 5
}
